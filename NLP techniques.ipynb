{
 "cells": [
  {
   "cell_type": "markdown",
   "id": "163028b3",
   "metadata": {},
   "source": [
    "# Tokenization"
   ]
  },
  {
   "cell_type": "code",
   "execution_count": 9,
   "id": "309f756f",
   "metadata": {
    "scrolled": true
   },
   "outputs": [
    {
     "name": "stdout",
     "output_type": "stream",
     "text": [
      "['This', 'is', 'an', 'example', 'sentence', 'for', 'tokenization.']\n"
     ]
    }
   ],
   "source": [
    "def tokenize_text(text):\n",
    "    \"\"\"Tokenize a text into words using whitespace as a delimiter.\"\"\"\n",
    "    tokens = text.split()\n",
    "    return tokens\n",
    "\n",
    "text = \"This is an example sentence for tokenization.\"\n",
    "tokens = tokenize_text(text)\n",
    "print(tokens)\n"
   ]
  },
  {
   "cell_type": "markdown",
   "id": "d8848d0d",
   "metadata": {},
   "source": [
    "# Bag of words"
   ]
  },
  {
   "cell_type": "code",
   "execution_count": 2,
   "id": "bcc43d62",
   "metadata": {},
   "outputs": [
    {
     "name": "stdout",
     "output_type": "stream",
     "text": [
      "BoW representation:\n",
      "[[0 1 1 1 0 0 1 0 1]\n",
      " [0 2 0 1 0 1 1 0 1]\n",
      " [1 0 0 1 1 0 1 1 1]\n",
      " [0 1 1 1 0 0 1 0 1]]\n",
      "Vocabulary:\n",
      "['and' 'document' 'first' 'is' 'one' 'second' 'the' 'third' 'this']\n"
     ]
    }
   ],
   "source": [
    "from sklearn.feature_extraction.text import CountVectorizer\n",
    "\n",
    "# Sample text data\n",
    "corpus = [\n",
    "    'This is the first document.',\n",
    "    'This document is the second document.',\n",
    "    'And this is the third one.',\n",
    "    'Is this the first document?',\n",
    "]\n",
    "\n",
    "# Create an instance of CountVectorizer\n",
    "vectorizer = CountVectorizer()\n",
    "\n",
    "# Fit and transform the corpus to create the BoW representation\n",
    "X = vectorizer.fit_transform(corpus)\n",
    "\n",
    "# Get the vocabulary (unique words)\n",
    "vocab = vectorizer.get_feature_names_out()\n",
    "\n",
    "# Convert the BoW representation to a dense array for readability\n",
    "dense_array = X.toarray()\n",
    "\n",
    "# Display the BoW representation\n",
    "print(\"BoW representation:\")\n",
    "print(dense_array)\n",
    "\n",
    "# Display the vocabulary\n",
    "print(\"Vocabulary:\")\n",
    "print(vocab)"
   ]
  },
  {
   "cell_type": "markdown",
   "id": "f65c8ac9",
   "metadata": {},
   "source": [
    "# Stemmer"
   ]
  },
  {
   "cell_type": "code",
   "execution_count": 3,
   "id": "9b41b229",
   "metadata": {},
   "outputs": [
    {
     "name": "stdout",
     "output_type": "stream",
     "text": [
      "['connect', 'connect', 'connect']\n"
     ]
    }
   ],
   "source": [
    "from nltk.stem import SnowballStemmer\n",
    "\n",
    "# Create a Snowball Stemmer for the English language\n",
    "stemmer = SnowballStemmer('english')\n",
    "\n",
    "# Example words to be stemmed\n",
    "words = ['connection', 'connectivity', 'connected']\n",
    "\n",
    "# Stem the words\n",
    "stemmed_words = [stemmer.stem(word) for word in words]\n",
    "\n",
    "# Print the stemmed words\n",
    "print(stemmed_words)\n"
   ]
  },
  {
   "cell_type": "markdown",
   "id": "fb8572e4",
   "metadata": {},
   "source": [
    "# Stop words removal"
   ]
  },
  {
   "cell_type": "code",
   "execution_count": 5,
   "id": "f4960edb",
   "metadata": {},
   "outputs": [
    {
     "name": "stderr",
     "output_type": "stream",
     "text": [
      "[nltk_data] Downloading package punkt to\n",
      "[nltk_data]     /Users/victoroshimua/nltk_data...\n",
      "[nltk_data]   Unzipping tokenizers/punkt.zip.\n",
      "[nltk_data] Downloading package stopwords to\n",
      "[nltk_data]     /Users/victoroshimua/nltk_data...\n",
      "[nltk_data]   Package stopwords is already up-to-date!\n"
     ]
    },
    {
     "name": "stdout",
     "output_type": "stream",
     "text": [
      "example sentence stop words .\n"
     ]
    }
   ],
   "source": [
    "import nltk\n",
    "from nltk.corpus import stopwords\n",
    "nltk.download('punkt')\n",
    "nltk.download('stopwords')\n",
    "\n",
    "# Sample text\n",
    "text = \"This is an example sentence with some stop words.\"\n",
    "\n",
    "# Tokenize the text\n",
    "words = nltk.word_tokenize(text)\n",
    "\n",
    "# Remove stop words\n",
    "filtered_words = [word for word in words if word.lower() not in stopwords.words('english')]\n",
    "\n",
    "# Join the filtered words back into a sentence\n",
    "filtered_text = ' '.join(filtered_words)\n",
    "\n",
    "# Print the filtered text\n",
    "print(filtered_text)\n"
   ]
  },
  {
   "cell_type": "markdown",
   "id": "3634e99c",
   "metadata": {},
   "source": [
    "# Name Entity Recognition"
   ]
  },
  {
   "cell_type": "code",
   "execution_count": 10,
   "id": "fc7d037c",
   "metadata": {},
   "outputs": [
    {
     "name": "stdout",
     "output_type": "stream",
     "text": [
      "Apple PERSON\n",
      "Inc. ORGANIZATION\n",
      "is VBZ\n",
      "a DT\n",
      "leading VBG\n",
      "tech NN\n",
      "company NN\n",
      "based VBN\n",
      "in IN\n",
      "Cupertino GPE\n",
      ", ,\n",
      "California GPE\n",
      ". .\n"
     ]
    },
    {
     "name": "stderr",
     "output_type": "stream",
     "text": [
      "[nltk_data] Downloading package punkt to\n",
      "[nltk_data]     /Users/victoroshimua/nltk_data...\n",
      "[nltk_data]   Package punkt is already up-to-date!\n",
      "[nltk_data] Downloading package maxent_ne_chunker to\n",
      "[nltk_data]     /Users/victoroshimua/nltk_data...\n",
      "[nltk_data]   Package maxent_ne_chunker is already up-to-date!\n",
      "[nltk_data] Downloading package words to\n",
      "[nltk_data]     /Users/victoroshimua/nltk_data...\n",
      "[nltk_data]   Package words is already up-to-date!\n",
      "[nltk_data] Downloading package averaged_perceptron_tagger to\n",
      "[nltk_data]     /Users/victoroshimua/nltk_data...\n",
      "[nltk_data]   Package averaged_perceptron_tagger is already up-to-\n",
      "[nltk_data]       date!\n"
     ]
    }
   ],
   "source": [
    "# Download necessary NLTK resources if not already downloaded\n",
    "import nltk\n",
    "nltk.download('punkt')  # Tokenizer\n",
    "nltk.download('maxent_ne_chunker')  # Named Entity Chunker\n",
    "nltk.download('words')  # Word corpus\n",
    "nltk.download('averaged_perceptron_tagger')  # POS Tagger\n",
    "\n",
    "from nltk import word_tokenize, pos_tag, ne_chunk\n",
    "\n",
    "# Input text\n",
    "text = \"Apple Inc. is a leading tech company based in Cupertino, California.\"\n",
    "\n",
    "# Tokenize the text into words\n",
    "tokens = word_tokenize(text)\n",
    "\n",
    "# Perform part-of-speech tagging on the tokens\n",
    "tagged = pos_tag(tokens)\n",
    "\n",
    "# Perform Named Entity Recognition (NER) using the ne_chunk function\n",
    "named_entities = ne_chunk(tagged)\n",
    "\n",
    "# Print named entities\n",
    "for entity in named_entities:\n",
    "    if isinstance(entity, tuple):\n",
    "        # If it's a tuple, print the word and its POS tag\n",
    "        print(entity[0], entity[1])\n",
    "    else:\n",
    "        # If it's a named entity, print the words and the entity label\n",
    "        print(\" \".join([word for word, tag in entity]), entity.label())\n"
   ]
  },
  {
   "cell_type": "code",
   "execution_count": null,
   "id": "ab5e4a0a",
   "metadata": {},
   "outputs": [],
   "source": []
  },
  {
   "cell_type": "code",
   "execution_count": null,
   "id": "d742bdfa",
   "metadata": {},
   "outputs": [],
   "source": []
  }
 ],
 "metadata": {
  "kernelspec": {
   "display_name": "Python 3 (ipykernel)",
   "language": "python",
   "name": "python3"
  },
  "language_info": {
   "codemirror_mode": {
    "name": "ipython",
    "version": 3
   },
   "file_extension": ".py",
   "mimetype": "text/x-python",
   "name": "python",
   "nbconvert_exporter": "python",
   "pygments_lexer": "ipython3",
   "version": "3.9.12"
  }
 },
 "nbformat": 4,
 "nbformat_minor": 5
}
