{
 "cells": [
  {
   "cell_type": "markdown",
   "id": "74f1895e",
   "metadata": {},
   "source": [
    "# Read and explore the data"
   ]
  },
  {
   "cell_type": "code",
   "execution_count": 15,
   "id": "c1a390ba",
   "metadata": {},
   "outputs": [
    {
     "data": {
      "text/html": [
       "<div>\n",
       "<style scoped>\n",
       "    .dataframe tbody tr th:only-of-type {\n",
       "        vertical-align: middle;\n",
       "    }\n",
       "\n",
       "    .dataframe tbody tr th {\n",
       "        vertical-align: top;\n",
       "    }\n",
       "\n",
       "    .dataframe thead th {\n",
       "        text-align: right;\n",
       "    }\n",
       "</style>\n",
       "<table border=\"1\" class=\"dataframe\">\n",
       "  <thead>\n",
       "    <tr style=\"text-align: right;\">\n",
       "      <th></th>\n",
       "      <th>Text</th>\n",
       "      <th>Language</th>\n",
       "    </tr>\n",
       "  </thead>\n",
       "  <tbody>\n",
       "    <tr>\n",
       "      <th>0</th>\n",
       "      <td>И с этими словами она села в его карету, и, да...</td>\n",
       "      <td>Russian</td>\n",
       "    </tr>\n",
       "    <tr>\n",
       "      <th>1</th>\n",
       "      <td>Sistemi di tipo probabilistico erano invasi di...</td>\n",
       "      <td>Italian</td>\n",
       "    </tr>\n",
       "    <tr>\n",
       "      <th>2</th>\n",
       "      <td>Machine learning involves computers discoverin...</td>\n",
       "      <td>English</td>\n",
       "    </tr>\n",
       "    <tr>\n",
       "      <th>3</th>\n",
       "      <td>Несколько языковых версий опубликовали подборк...</td>\n",
       "      <td>Russian</td>\n",
       "    </tr>\n",
       "    <tr>\n",
       "      <th>4</th>\n",
       "      <td>[225] In May 2014, Wikimedia Foundation named ...</td>\n",
       "      <td>English</td>\n",
       "    </tr>\n",
       "  </tbody>\n",
       "</table>\n",
       "</div>"
      ],
      "text/plain": [
       "                                                Text Language\n",
       "0  И с этими словами она села в его карету, и, да...  Russian\n",
       "1  Sistemi di tipo probabilistico erano invasi di...  Italian\n",
       "2  Machine learning involves computers discoverin...  English\n",
       "3  Несколько языковых версий опубликовали подборк...  Russian\n",
       "4  [225] In May 2014, Wikimedia Foundation named ...  English"
      ]
     },
     "execution_count": 15,
     "metadata": {},
     "output_type": "execute_result"
    }
   ],
   "source": [
    "# Importing the pandas library and aliasing it as 'pd'\n",
    "import pandas as pd\n",
    "\n",
    "# Reading a CSV file named \"Language Detection.csv\" into a DataFrame\n",
    "df = pd.read_csv(\"Language Detection.csv\")\n",
    "\n",
    "# Shuffling the rows of the DataFrame with a specific random state (42)\n",
    "df = df.sample(frac=1, random_state=42)\n",
    "\n",
    "# Resetting the index of the DataFrame and dropping the old index\n",
    "df = df.reset_index(drop=True)\n",
    "\n",
    "# Displaying the first few rows of the DataFrame\n",
    "df.head()\n"
   ]
  },
  {
   "cell_type": "code",
   "execution_count": 18,
   "id": "ec3957ad",
   "metadata": {},
   "outputs": [
    {
     "name": "stdout",
     "output_type": "stream",
     "text": [
      "English       1385\n",
      "French        1014\n",
      "Spanish        819\n",
      "Portugeese     739\n",
      "Italian        698\n",
      "Russian        692\n",
      "Sweedish       676\n",
      "Malayalam      594\n",
      "Dutch          546\n",
      "Arabic         536\n",
      "Turkish        474\n",
      "German         470\n",
      "Tamil          469\n",
      "Danish         428\n",
      "Kannada        369\n",
      "Greek          365\n",
      "Hindi           63\n",
      "Name: Language, dtype: int64\n"
     ]
    }
   ],
   "source": [
    "# Count the occurrences of each language in the \"Language\" column\n",
    "language_counts = df[\"Language\"].value_counts()\n",
    "print(language_counts)"
   ]
  },
  {
   "cell_type": "markdown",
   "id": "e69b674d",
   "metadata": {},
   "source": [
    "# Data preparation"
   ]
  },
  {
   "cell_type": "code",
   "execution_count": 20,
   "id": "2c9685fd",
   "metadata": {},
   "outputs": [],
   "source": [
    "# Importing numpy for numerical operations\n",
    "import numpy as np\n",
    "\n",
    "# Importing CountVectorizer to create bag of word features\n",
    "from sklearn.feature_extraction.text import CountVectorizer\n",
    "\n",
    "# Importing train_test_split for splitting the data\n",
    "from sklearn.model_selection import train_test_split\n",
    "\n",
    "# Creating numpy arrays for the \"Text\" and \"Language\" columns\n",
    "x = np.array(df[\"Text\"])\n",
    "y = np.array(df[\"Language\"])\n",
    "\n",
    "# Initializing a CountVectorizer to create bag of word features\n",
    "cv = CountVectorizer()\n",
    "\n",
    "# Transforming the text data into a sparse matrix of token counts\n",
    "X = cv.fit_transform(x)\n",
    "\n",
    "# Splitting the data into training and testing sets\n",
    "X_train, X_test, y_train, y_test = train_test_split(X, y, \n",
    "                                                    test_size=0.2, \n",
    "                                                    random_state=0)\n"
   ]
  },
  {
   "cell_type": "markdown",
   "id": "6cfa5641",
   "metadata": {},
   "source": [
    "# Modeling"
   ]
  },
  {
   "cell_type": "code",
   "execution_count": 21,
   "id": "bb461c24",
   "metadata": {},
   "outputs": [
    {
     "data": {
      "text/plain": [
       "MultinomialNB()"
      ]
     },
     "execution_count": 21,
     "metadata": {},
     "output_type": "execute_result"
    }
   ],
   "source": [
    "# Import the Multinomial Naïve Bayes classifier from scikit-learn\n",
    "from sklearn.naive_bayes import MultinomialNB\n",
    "\n",
    "# Create an instance of the Multinomial Naïve Bayes model\n",
    "model = MultinomialNB()\n",
    "\n",
    "# Fit (train) the model using the training data\n",
    "model.fit(X_train, y_train)\n"
   ]
  },
  {
   "cell_type": "code",
   "execution_count": 25,
   "id": "7e124dbf",
   "metadata": {},
   "outputs": [
    {
     "name": "stdout",
     "output_type": "stream",
     "text": [
      "The model accuracy score is: 0.9792069632495164\n"
     ]
    }
   ],
   "source": [
    "# Calculate the accuracy score of the model on the test data\n",
    "accuracy_score = model.score(X_test, y_test)\n",
    "\n",
    "# Print the model's accuracy score\n",
    "print(f\"The model accuracy score is: {accuracy_score}\")\n"
   ]
  },
  {
   "cell_type": "markdown",
   "id": "a822d74d",
   "metadata": {},
   "source": [
    "# Using the model"
   ]
  },
  {
   "cell_type": "code",
   "execution_count": 26,
   "id": "b14d1b7b",
   "metadata": {},
   "outputs": [
    {
     "name": "stdout",
     "output_type": "stream",
     "text": [
      "Enter a Text: i love my mum\n",
      "['English']\n"
     ]
    }
   ],
   "source": [
    "user = input(\"Enter a Text: \")\n",
    "data = cv.transform([user]).toarray()\n",
    "output = model.predict(data)\n",
    "print(output)\n",
    "\n",
    "## You can test on \n",
    "## (\"Позже континенты воссоединились, образовав Паннотию, которая распалась около\") this sentence,\n",
    "## which is written in russian"
   ]
  },
  {
   "cell_type": "code",
   "execution_count": 27,
   "id": "e492086b",
   "metadata": {},
   "outputs": [
    {
     "name": "stdout",
     "output_type": "stream",
     "text": [
      "Enter a Text (or 'end' to exit): I love my mum\n",
      "['English']\n",
      "Enter a Text (or 'end' to exit): Позже континенты воссоединились, образовав Паннотию, которая распалась около\n",
      "['Russian']\n",
      "Enter a Text (or 'end' to exit): dcubcd\n",
      "['English']\n",
      "Enter a Text (or 'end' to exit): Buenas tardes\n",
      "['Spanish']\n",
      "Enter a Text (or 'end' to exit): Ich liebe dich\n",
      "['German']\n",
      "Enter a Text (or 'end' to exit): end\n"
     ]
    }
   ],
   "source": [
    "# Create a loop to continuously ask for user input\n",
    "while True:\n",
    "    user = input(\"Enter a Text (or 'end' to exit): \")  # Prompt the user to enter text\n",
    "    \n",
    "    # Check if the user wants to exit the loop\n",
    "    if user.lower() == 'end':\n",
    "        break  # Exit the loop if user enters 'end'\n",
    "\n",
    "    data = cv.transform([user]).toarray()  # Transform user input into numerical data\n",
    "    output = model.predict(data)  # Use the model to predict the language\n",
    "    print(output)  # Print the predicted language\n",
    "\n"
   ]
  },
  {
   "cell_type": "code",
   "execution_count": null,
   "id": "e2f1da48",
   "metadata": {},
   "outputs": [],
   "source": []
  }
 ],
 "metadata": {
  "kernelspec": {
   "display_name": "Python 3 (ipykernel)",
   "language": "python",
   "name": "python3"
  },
  "language_info": {
   "codemirror_mode": {
    "name": "ipython",
    "version": 3
   },
   "file_extension": ".py",
   "mimetype": "text/x-python",
   "name": "python",
   "nbconvert_exporter": "python",
   "pygments_lexer": "ipython3",
   "version": "3.9.12"
  }
 },
 "nbformat": 4,
 "nbformat_minor": 5
}
