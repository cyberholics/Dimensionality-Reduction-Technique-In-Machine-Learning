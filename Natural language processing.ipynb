{
 "cells": [
  {
   "cell_type": "markdown",
   "id": "75a212a9",
   "metadata": {},
   "source": [
    "# Tokenization"
   ]
  },
  {
   "cell_type": "code",
   "execution_count": 9,
   "id": "8d4debb6",
   "metadata": {},
   "outputs": [
    {
     "name": "stdout",
     "output_type": "stream",
     "text": [
      "['This', 'is', 'an', 'example', 'sentence', 'for', 'tokenization.']\n"
     ]
    }
   ],
   "source": [
    "def tokenize_text(text):\n",
    "    \"\"\"Tokenize a text into words using whitespace as a delimiter.\"\"\"\n",
    "    tokens = text.split()\n",
    "    return tokens\n",
    "\n",
    "text = \"This is an example sentence for tokenization.\"\n",
    "tokens = tokenize_text(text)\n",
    "print(tokens)\n"
   ]
  },
  {
   "cell_type": "code",
   "execution_count": null,
   "id": "2a6482fd",
   "metadata": {},
   "outputs": [],
   "source": []
  }
 ],
 "metadata": {
  "kernelspec": {
   "display_name": "Python 3 (ipykernel)",
   "language": "python",
   "name": "python3"
  },
  "language_info": {
   "codemirror_mode": {
    "name": "ipython",
    "version": 3
   },
   "file_extension": ".py",
   "mimetype": "text/x-python",
   "name": "python",
   "nbconvert_exporter": "python",
   "pygments_lexer": "ipython3",
   "version": "3.9.12"
  }
 },
 "nbformat": 4,
 "nbformat_minor": 5
}
